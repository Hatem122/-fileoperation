{
 "cells": [
  {
   "cell_type": "code",
   "execution_count": 1,
   "id": "251993c5-dd0a-4b13-b7bd-0ab5a4f90505",
   "metadata": {},
   "outputs": [
    {
     "name": "stdout",
     "output_type": "stream",
     "text": [
      "Package structure created!\n"
     ]
    }
   ],
   "source": [
    "import os\n",
    "\n",
    "# إنشاء المجلدات\n",
    "os.makedirs('myexperience/db', exist_ok=True)\n",
    "\n",
    "# إنشاء ملفات `__init__.py` لجعل المجلدات حزمًا\n",
    "open('myexperience/__init__.py', 'w').close()\n",
    "open('myexperience/db/__init__.py', 'w').close()\n",
    "\n",
    "print(\"Package structure created!\")\n"
   ]
  },
  {
   "cell_type": "code",
   "execution_count": 2,
   "id": "f3109766-9cfc-4e4a-8d5b-4ec7c3a0ab6d",
   "metadata": {},
   "outputs": [
    {
     "name": "stdout",
     "output_type": "stream",
     "text": [
      "fileoperation module created!\n"
     ]
    }
   ],
   "source": [
    "fileoperation_code = \"\"\"\n",
    "import os\n",
    "\n",
    "def read(filepath, option='all'):\n",
    "    try:\n",
    "        with open(filepath, 'r') as file:\n",
    "            if option == 'all':\n",
    "                return file.read()\n",
    "            elif option == '5':\n",
    "                return file.read(5)\n",
    "            elif option == 'line':\n",
    "                return file.readline()\n",
    "            elif option == 'lines':\n",
    "                return file.readlines()\n",
    "            else:\n",
    "                raise ValueError(\"Invalid option. Choose from 'all', '5', 'line', 'lines'.\")\n",
    "    except FileNotFoundError:\n",
    "        return \"File not found.\"\n",
    "\n",
    "def write(filepath, content, option='write'):\n",
    "    mode = 'w' if option == 'write' else 'w'\n",
    "    with open(filepath, mode) as file:\n",
    "        if isinstance(content, list):\n",
    "            file.writelines(content)\n",
    "        else:\n",
    "            file.write(content)\n",
    "\n",
    "def append(filepath, newcontent, option='write'):\n",
    "    mode = 'a' if option == 'write' else 'a'\n",
    "    with open(filepath, mode) as file:\n",
    "        if isinstance(newcontent, list):\n",
    "            file.writelines(newcontent)\n",
    "        else:\n",
    "            file.write(newcontent)\n",
    "\"\"\"\n",
    "\n",
    "# كتابة الكود إلى الملف\n",
    "with open('myexperience/fileoperation.py', 'w') as f:\n",
    "    f.write(fileoperation_code)\n",
    "\n",
    "print(\"fileoperation module created!\")\n"
   ]
  },
  {
   "cell_type": "code",
   "execution_count": 3,
   "id": "425a4be9-4aea-44fb-b5d4-19aa6f58c7c0",
   "metadata": {},
   "outputs": [
    {
     "name": "stdout",
     "output_type": "stream",
     "text": [
      "db_operations module created!\n"
     ]
    }
   ],
   "source": [
    "db_operations_code = \"\"\"\n",
    "import sqlite3\n",
    "\n",
    "def inserttodb(query):\n",
    "    with sqlite3.connect('example.db') as conn:\n",
    "        cursor = conn.cursor()\n",
    "        cursor.execute(query)\n",
    "        conn.commit()\n",
    "\n",
    "def update(query):\n",
    "    with sqlite3.connect('example.db') as conn:\n",
    "        cursor = conn.cursor()\n",
    "        cursor.execute(query)\n",
    "        conn.commit()\n",
    "\n",
    "def delete(query):\n",
    "    with sqlite3.connect('example.db') as conn:\n",
    "        cursor = conn.cursor()\n",
    "        cursor.execute(query)\n",
    "        conn.commit()\n",
    "\n",
    "def select(query):\n",
    "    with sqlite3.connect('example.db') as conn:\n",
    "        cursor = conn.cursor()\n",
    "        cursor.execute(query)\n",
    "        return cursor.fetchall()\n",
    "\"\"\"\n",
    "\n",
    "# كتابة الكود إلى الملف\n",
    "with open('myexperience/db/db_operations.py', 'w') as f:\n",
    "    f.write(db_operations_code)\n",
    "\n",
    "print(\"db_operations module created!\")\n"
   ]
  },
  {
   "cell_type": "code",
   "execution_count": 4,
   "id": "3f3e9a4f-2db0-41c8-83f8-b6957c369261",
   "metadata": {},
   "outputs": [
    {
     "name": "stdout",
     "output_type": "stream",
     "text": [
      "File content: Hello, Jupyter!\n",
      "Database content: [(1, 'Alice')]\n"
     ]
    }
   ],
   "source": [
    "from myexperience.fileoperation import read, write, append\n",
    "from myexperience.db.db_operations import inserttodb, select\n",
    "\n",
    "# File operations\n",
    "write(\"example.txt\", \"Hello, Jupyter!\", option='write')\n",
    "print(\"File content:\", read(\"example.txt\", option='all'))\n",
    "\n",
    "# Database operations\n",
    "inserttodb(\"CREATE TABLE IF NOT EXISTS users (id INTEGER PRIMARY KEY, name TEXT)\")\n",
    "inserttodb(\"INSERT INTO users (name) VALUES ('Alice')\")\n",
    "print(\"Database content:\", select(\"SELECT * FROM users\"))\n"
   ]
  },
  {
   "cell_type": "code",
   "execution_count": 5,
   "id": "c81e5487-de44-46bf-a7c5-f7fe73a43848",
   "metadata": {},
   "outputs": [
    {
     "name": "stdout",
     "output_type": "stream",
     "text": [
      "Streamlit app created!\n"
     ]
    }
   ],
   "source": [
    "app_code = \"\"\"\n",
    "import streamlit as st\n",
    "from myexperience.fileoperation import read, write, append\n",
    "from myexperience.db.db_operations import select, inserttodb\n",
    "\n",
    "st.title(\"File and Database Operations\")\n",
    "\n",
    "# File operations\n",
    "st.subheader(\"File Operations\")\n",
    "filepath = st.text_input(\"Filepath\")\n",
    "content = st.text_area(\"Content\")\n",
    "if st.button(\"Write to File\"):\n",
    "    write(filepath, content)\n",
    "    st.success(\"File written successfully!\")\n",
    "\n",
    "# Database operations\n",
    "st.subheader(\"Database Operations\")\n",
    "query = st.text_area(\"SQL Query\")\n",
    "if st.button(\"Execute Query\"):\n",
    "    try:\n",
    "        if query.strip().upper().startswith(\"SELECT\"):\n",
    "            result = select(query)\n",
    "            st.write(result)\n",
    "        else:\n",
    "            inserttodb(query)\n",
    "            st.success(\"Query executed successfully!\")\n",
    "    except Exception as e:\n",
    "        st.error(f\"Error: {e}\")\n",
    "\"\"\"\n",
    "\n",
    "# كتابة الكود إلى الملف\n",
    "with open('app.py', 'w') as f:\n",
    "    f.write(app_code)\n",
    "\n",
    "print(\"Streamlit app created!\")\n"
   ]
  },
  {
   "cell_type": "code",
   "execution_count": null,
   "id": "4cebd9f9-5a2e-4476-9a8c-06fe0942589d",
   "metadata": {},
   "outputs": [],
   "source": []
  }
 ],
 "metadata": {
  "kernelspec": {
   "display_name": "Python 3 (ipykernel)",
   "language": "python",
   "name": "python3"
  },
  "language_info": {
   "codemirror_mode": {
    "name": "ipython",
    "version": 3
   },
   "file_extension": ".py",
   "mimetype": "text/x-python",
   "name": "python",
   "nbconvert_exporter": "python",
   "pygments_lexer": "ipython3",
   "version": "3.12.4"
  }
 },
 "nbformat": 4,
 "nbformat_minor": 5
}
